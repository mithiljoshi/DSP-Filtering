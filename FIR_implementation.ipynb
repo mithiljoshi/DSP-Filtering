{
 "cells": [
  {
   "cell_type": "markdown",
   "metadata": {},
   "source": [
    "**Implementing FIR filters**\n",
    "\n",
    "In real time filtering applications, filter are implemented by using some variation or other of their constant coefficient difference equation, so that one new output sample is generated for each new input sample. If all the input data is available in advance, as in non-real-time(aka \"öffline\") applications, then the CCDE based algorithm is iteratively applied to all samples in the buffer.\n",
    "\n",
    "In the case of FIR filters, the CCDE coefficients correspond to impulse response and implementing the CCDE is equivalent to performing a convolution sum. In this notebook we will look at different ways to implement FIR filters"
   ]
  },
  {
   "cell_type": "code",
   "execution_count": 20,
   "metadata": {},
   "outputs": [],
   "source": [
    "%matplotlib inline\n",
    "import matplotlib\n",
    "import matplotlib.pyplot as plt\n",
    "import numpy as np"
   ]
  },
  {
   "cell_type": "markdown",
   "metadata": {},
   "source": [
    "**Online Implementation**\n",
    "\n",
    "The classic way to implement a filter is one-in one-out approach. We will need to implement a persistant delay line. In python we can either define a class or use function attributes; classes are tidier and reusable:"
   ]
  },
  {
   "cell_type": "code",
   "execution_count": 21,
   "metadata": {},
   "outputs": [],
   "source": [
    "class FIR_loop():\n",
    "    def __init__(self, h):\n",
    "        self.h = h\n",
    "        self.ix = 0\n",
    "        self.M = len(h)\n",
    "        self.buf = np.zeros(self.M)\n",
    "    \n",
    "    def filter(self, x):\n",
    "        y=0\n",
    "        self.buf[self.ix]=x\n",
    "        for n in range(0, self.M):\n",
    "            y+=self.h[n]*self.buf[(self.ix+self.M-n) % self.M]\n",
    "        self.ix = (self.ix+1)%self.M\n",
    "        return y"
   ]
  },
  {
   "cell_type": "code",
   "execution_count": 22,
   "metadata": {},
   "outputs": [
    {
     "name": "stdout",
     "output_type": "stream",
     "text": [
      "0.0, 0.2, 0.6000000000000001, 1.2, 2.0000000000000004, 3.0000000000000004, 4.0, 5.0, 6.0, 7.000000000000001, "
     ]
    }
   ],
   "source": [
    "# simple moving average:\n",
    "h = np.ones(5)/5\n",
    "f = FIR_loop(h)\n",
    "for n in range(0,10):\n",
    "    print(f.filter(n), end=\", \")"
   ]
  },
  {
   "cell_type": "markdown",
   "metadata": {},
   "source": [
    "While there's nothing wrong with the above implementation, when the data to be filtered is known in advance, it makes no sense to explicitly iterate over its element and it's better to use higher-level commands to perform the convolution. In Numpy, the command is convolve; before we use it, though, we need to take border effects into consideration."
   ]
  },
  {
   "cell_type": "code",
   "execution_count": 23,
   "metadata": {},
   "outputs": [
    {
     "name": "stdout",
     "output_type": "stream",
     "text": [
      "signal length:  21\n"
     ]
    },
    {
     "data": {
      "image/png": "[encoded data removed]",
      "text/plain": [
       "<Figure size 432x288 with 1 Axes>"
      ]
     },
     "metadata": {
      "needs_background": "light"
     },
     "output_type": "display_data"
    }
   ],
   "source": [
    "# lets use a simple moving average:\n",
    "M= 5\n",
    "h = np.ones(M)/float(M)\n",
    "\n",
    "# lets build a signal with a ramp and a plateau\n",
    "x = np.concatenate((np.arange(1, 9), np.ones(5)*8, np.arange(8,0,-1)))\n",
    "\n",
    "plt.stem(x, use_line_collection=True);\n",
    "\n",
    "print(\"signal length: \", len(x))"
   ]
  },
  {
   "cell_type": "markdown",
   "metadata": {},
   "source": [
    "**1) NO BORDER EFFECTS**\n",
    "\n",
    "We may chosse to accept the loss of data points and use only the N-M+1 output samples that correspond to full overlap between the input data and impulse response. This can be achieved by selecting mode='Valid' in correlate:"
   ]
  },
  {
   "cell_type": "code",
   "execution_count": 24,
   "metadata": {},
   "outputs": [
    {
     "name": "stdout",
     "output_type": "stream",
     "text": [
      "signal length:  17\n"
     ]
    },
    {
     "data": {
      "text/plain": [
       "<StemContainer object of 3 artists>"
      ]
     },
     "execution_count": 24,
     "metadata": {},
     "output_type": "execute_result"
    },
    {
     "data": {
      "image/png": "[encoded data removed]",
      "text/plain": [
       "<Figure size 432x288 with 1 Axes>"
      ]
     },
     "metadata": {
      "needs_background": "light"
     },
     "output_type": "display_data"
    }
   ],
   "source": [
    "y = np.convolve(x, h, mode = 'valid')\n",
    "print(\"signal length: \", len(y))\n",
    "plt.stem(y, use_line_collection=True)"
   ]
  },
  {
   "cell_type": "markdown",
   "metadata": {},
   "source": [
    "**2) Finite-support extension**\n",
    "\n",
    "BY embedding the input into a finite support signal, the convolution sum is now well defined for all values of n, which now creates a new problem: the output will be nonzero for all values of n for which x[n-k] is nonzero,that is for 0<=n<= N+M-1: we end up with a longer support for output sequence. This is the default in correlate and corresponds to mode 'full':"
   ]
  },
  {
   "cell_type": "code",
   "execution_count": 25,
   "metadata": {},
   "outputs": [
    {
     "name": "stdout",
     "output_type": "stream",
     "text": [
      "signal length:  25\n"
     ]
    },
    {
     "data": {
      "text/plain": [
       "<StemContainer object of 3 artists>"
      ]
     },
     "execution_count": 25,
     "metadata": {},
     "output_type": "execute_result"
    },
    {
     "data": {
      "image/png": "[encoded data removed]",
      "text/plain": [
       "<Figure size 432x288 with 1 Axes>"
      ]
     },
     "metadata": {
      "needs_background": "light"
     },
     "output_type": "display_data"
    }
   ],
   "source": [
    "y = np.convolve(x, h, mode = 'full')\n",
    "print(\"signal length: \", len(y))\n",
    "plt.stem(y, use_line_collection=True)"
   ]
  },
  {
   "cell_type": "markdown",
   "metadata": {},
   "source": [
    "If you want to preserve the same length for input and output, we need to truncate the result. You can keep the first N samples and discard the tail; this corresponds to online implementation of FIR filter. Alternatively you can discard half the extra samles from beginning and half from end of the output and distribute the border effect evenly; This si achieved in correlate by setting mode = 'same:'"
   ]
  },
  {
   "cell_type": "code",
   "execution_count": 26,
   "metadata": {},
   "outputs": [
    {
     "name": "stdout",
     "output_type": "stream",
     "text": [
      "signal length:  21\n"
     ]
    },
    {
     "data": {
      "text/plain": [
       "<StemContainer object of 3 artists>"
      ]
     },
     "execution_count": 26,
     "metadata": {},
     "output_type": "execute_result"
    },
    {
     "data": {
      "image/png": "[encoded data removed]",
      "text/plain": [
       "<Figure size 432x288 with 1 Axes>"
      ]
     },
     "metadata": {
      "needs_background": "light"
     },
     "output_type": "display_data"
    }
   ],
   "source": [
    "y = np.convolve(x, h, mode = 'same')\n",
    "print(\"signal length: \", len(y))\n",
    "plt.stem(y, use_line_collection=True)"
   ]
  },
  {
   "cell_type": "markdown",
   "metadata": {},
   "source": [
    "**3) Periodic extension**\n",
    "\n",
    "As we know, the other way of embedding a finite-length signal is to build a periodic extension. The convolution in this case will return an  NN -periodic output:\n",
    "\n",
    "ỹ [n]=∑k=0M−1h[k]x̃ [n−k]\n",
    "\n",
    " \n",
    "We can easily implement a circular convolution using convolve like so: since the overlap between time-reversed impulse response and input is already good for the last  N−MN−M  points in the output, we just need to consider two periods of the input to compute the first  M :"
   ]
  },
  {
   "cell_type": "code",
   "execution_count": 27,
   "metadata": {},
   "outputs": [],
   "source": [
    "def cconv(x, h):\n",
    "    # as before, we assume len(h)<len(x)\n",
    "    L = len(x)\n",
    "    xp = np.concatenate((x,x))\n",
    "    # full convolution\n",
    "    y = np.convolve(xp, h)\n",
    "    return y[L:2*L]"
   ]
  },
  {
   "cell_type": "code",
   "execution_count": 28,
   "metadata": {},
   "outputs": [
    {
     "name": "stdout",
     "output_type": "stream",
     "text": [
      "signal length:  21\n"
     ]
    },
    {
     "data": {
      "image/png": "[encoded data removed]",
      "text/plain": [
       "<Figure size 432x288 with 1 Axes>"
      ]
     },
     "metadata": {
      "needs_background": "light"
     },
     "output_type": "display_data"
    }
   ],
   "source": [
    "y = cconv(x, h)\n",
    "print('signal length: ', len(y))\n",
    "plt.stem(y, use_line_collection=True);"
   ]
  },
  {
   "cell_type": "markdown",
   "metadata": {},
   "source": [
    "\n",
    "OK, clearly the result is not necessarily what we expected; note however that in both circular and \"normal\" convolution, you still have M−1 output samples \"touched\" by border effects, it's just that the border effects act differently in the two cases.\n",
    "\n",
    "Interestingly, you can still obtain a \"normal\" convolution using a circular convolution if you zero-pad the input signal with M−1 zeros:"
   ]
  },
  {
   "cell_type": "code",
   "execution_count": 29,
   "metadata": {},
   "outputs": [
    {
     "name": "stdout",
     "output_type": "stream",
     "text": [
      "signal length:  25\n"
     ]
    },
    {
     "data": {
      "image/png": "[encoded data removed]",
      "text/plain": [
       "<Figure size 432x288 with 1 Axes>"
      ]
     },
     "metadata": {
      "needs_background": "light"
     },
     "output_type": "display_data"
    }
   ],
   "source": [
    "y = cconv(np.concatenate((x, np.zeros(M-1))),h)\n",
    "print(\"signal length: \", len(y))\n",
    "plt.stem(y, use_line_collection=True);\n",
    "\n",
    "# plot in red the difference with standard conv\n",
    "plt.stem(y- np.convolve(x, h, mode = 'full'), markerfmt = 'ro', use_line_collection=True);\n",
    "\n"
   ]
  },
  {
   "cell_type": "markdown",
   "metadata": {},
   "source": [
    "Why is this interesting? Because of DFT\n",
    "\n",
    "**Offline implementation of DFT**\n",
    "\n",
    "The undamental result is: The inverse DFT of the product of two DFTs is the circular convolution of underlying time domain sequences!\n",
    "\n",
    "To apply this result to FIR filtering, the first step is to choose the space for the DFTs. In our case we have a finite-length data vector of length  N  and a finite-support impulse response of length  M  with  M<N  so let's operate in  ℂN by zero-padding the impulse response to size  N. Also, we most likely want the normal convolution, so let's zero-pad both signals by an additional  M−1 samples"
   ]
  },
  {
   "cell_type": "code",
   "execution_count": 30,
   "metadata": {},
   "outputs": [],
   "source": [
    "def DFTconv(x, h, mode = 'full'):\n",
    "    # we want to compute full convolution\n",
    "    N = len(x)\n",
    "    M = len(h)\n",
    "    X = np.fft.fft(x, n = N+M-1)\n",
    "    H = np.fft.fft(h, n = N+M-1)\n",
    "    # we are using real - valued signals,\n",
    "    # so drop the imag part\n",
    "    y = np.real(np.fft.ifft(X*H))\n",
    "    if mode == 'valid':\n",
    "        # only N-M+1 points, starting at M-1\n",
    "        return y [M-1:N]\n",
    "    elif mode == 'same':\n",
    "        return y[int((M-1)/2):int((M-1)/2)+N]\n",
    "    else:\n",
    "        return y"
   ]
  },
  {
   "cell_type": "markdown",
   "metadata": {},
   "source": [
    "Let's verify that the results are the same"
   ]
  },
  {
   "cell_type": "code",
   "execution_count": 31,
   "metadata": {},
   "outputs": [
    {
     "name": "stdout",
     "output_type": "stream",
     "text": [
      "signal length:  17\n",
      "signal length:  17\n"
     ]
    },
    {
     "data": {
      "image/png": "[encoded data removed]",
      "text/plain": [
       "<Figure size 432x288 with 1 Axes>"
      ]
     },
     "metadata": {
      "needs_background": "light"
     },
     "output_type": "display_data"
    },
    {
     "data": {
      "image/png": "[encoded data removed]",
      "text/plain": [
       "<Figure size 432x288 with 1 Axes>"
      ]
     },
     "metadata": {
      "needs_background": "light"
     },
     "output_type": "display_data"
    }
   ],
   "source": [
    "y = np.convolve(x, h, mode='valid')\n",
    "print('signal length: ', len(y))\n",
    "plt.stem(y, use_line_collection=True);\n",
    "plt.figure()\n",
    "y = DFTconv(x, h, mode='valid')\n",
    "print('signal length: ', len(y))\n",
    "plt.stem(y, markerfmt='ro', use_line_collection=True);"
   ]
  },
  {
   "cell_type": "code",
   "execution_count": 32,
   "metadata": {},
   "outputs": [
    {
     "name": "stdout",
     "output_type": "stream",
     "text": [
      "signal length:  21\n",
      "signal length:  21\n"
     ]
    },
    {
     "data": {
      "image/png": "[encoded data removed]",
      "text/plain": [
       "<Figure size 432x288 with 1 Axes>"
      ]
     },
     "metadata": {
      "needs_background": "light"
     },
     "output_type": "display_data"
    },
    {
     "data": {
      "image/png": "[encoded data removed]",
      "text/plain": [
       "<Figure size 432x288 with 1 Axes>"
      ]
     },
     "metadata": {
      "needs_background": "light"
     },
     "output_type": "display_data"
    }
   ],
   "source": [
    "y = np.convolve(x, h, mode='same')\n",
    "print('signal length: ', len(y))\n",
    "plt.stem(y, use_line_collection=True);\n",
    "plt.figure()\n",
    "y = DFTconv(x, h, mode='same')\n",
    "print('signal length: ', len(y))\n",
    "plt.stem(y, markerfmt='ro', use_line_collection=True);"
   ]
  },
  {
   "cell_type": "markdown",
   "metadata": {},
   "source": [
    "Of course the question at this point is: why go through the trouble of taking DFTs if all we want is the standard convolution? The answer is: computational efficiency.\n",
    "\n",
    "If you look at the convolution sum, each output sample requires  M  multiplications (and  M−1 additions but let's just consider multiplications). In order to filter an  N -point signal we will need  NM  multiplications. Assume  N≈M  and you can see that the computational requirements are on the order of  M2. If we go the DFT route using an efficient FFT implementation we have approximately:\n",
    "\n",
    "Mlog2M  multiplication to compute  H[k]\n",
    "\n",
    "Mlog2M multiplication to compute  X[k] \n",
    "\n",
    "Mlog2M multiplication to compute  X[k]H[k] \n",
    "\n",
    "Mlog2M  multiplication to compute the inverse DFT\n",
    "\n",
    "Even considering that we now have to use complex multiplications (which will cost twice as much), we can estimate the cost of the DFT based convolution at around  8Mlog2M , which is smaller than  M2  as soon as  M>44"
   ]
  },
  {
   "cell_type": "markdown",
   "metadata": {},
   "source": [
    "In practice, the data vector is much longer than the impulse response so that filtering via standard convolution requires on the order of  MN  operations. Two techniques, called Overlap Add and Overlap Save can be used to divide the convolution into  N/M independent convolutions between  h[n]  and an  M -sized piece of  x[n] ; FFT-based convolution can then be used on each piece. While the exact cost per sample of each technique is a bit complicated to estimate, as a rule of thumb as soon as the impulse response is longer than 50 samples, it's more convenient to use DFT-based filtering."
   ]
  },
  {
   "cell_type": "code",
   "execution_count": null,
   "metadata": {},
   "outputs": [],
   "source": []
  }
 ],
 "metadata": {
  "kernelspec": {
   "display_name": "Python 3",
   "language": "python",
   "name": "python3"
  },
  "language_info": {
   "codemirror_mode": {
    "name": "ipython",
    "version": 3
   },
   "file_extension": ".py",
   "mimetype": "text/x-python",
   "name": "python",
   "nbconvert_exporter": "python",
   "pygments_lexer": "ipython3",
   "version": "3.7.6"
  }
 },
 "nbformat": 4,
 "nbformat_minor": 4
}
